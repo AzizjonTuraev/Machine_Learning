{
 "cells": [
  {
   "cell_type": "markdown",
   "id": "6f3ad99d",
   "metadata": {},
   "source": [
    "source: https://www.youtube.com/watch?v=Kc6Jsph1kyM"
   ]
  },
  {
   "cell_type": "markdown",
   "id": "f5fb84b8",
   "metadata": {},
   "source": [
    "# Regularization and Standardization"
   ]
  },
  {
   "cell_type": "code",
   "execution_count": 1,
   "id": "46d3466d",
   "metadata": {},
   "outputs": [],
   "source": [
    "import numpy as np\n",
    "import pandas as pd\n",
    "from sklearn.linear_model import LogisticRegression\n",
    "from sklearn.pipeline import Pipeline\n",
    "from sklearn.preprocessing import StandardScaler"
   ]
  },
  {
   "cell_type": "code",
   "execution_count": 2,
   "id": "2f46533c",
   "metadata": {},
   "outputs": [],
   "source": [
    "%matplotlib inline"
   ]
  },
  {
   "cell_type": "code",
   "execution_count": 3,
   "id": "196a4b55",
   "metadata": {},
   "outputs": [],
   "source": [
    "true_feet = np.random.normal(4, size = 1000)\n",
    "category = true_feet > 5\n",
    "df = pd.DataFrame({\n",
    "    'x1': true_feet + np.random.normal(size = len(true_feet)),\n",
    "    'x2': true_feet + np.random.normal(size = len(true_feet)),\n",
    "    'x3': true_feet + np.random.normal(size = len(true_feet)),\n",
    "    'y': category\n",
    "})\n",
    "\n",
    "train, test = df.iloc[:500].copy(), df.iloc[500:].copy()"
   ]
  },
  {
   "cell_type": "code",
   "execution_count": 5,
   "id": "f4090ea5",
   "metadata": {},
   "outputs": [
    {
     "data": {
      "text/html": [
       "<div>\n",
       "<style scoped>\n",
       "    .dataframe tbody tr th:only-of-type {\n",
       "        vertical-align: middle;\n",
       "    }\n",
       "\n",
       "    .dataframe tbody tr th {\n",
       "        vertical-align: top;\n",
       "    }\n",
       "\n",
       "    .dataframe thead th {\n",
       "        text-align: right;\n",
       "    }\n",
       "</style>\n",
       "<table border=\"1\" class=\"dataframe\">\n",
       "  <thead>\n",
       "    <tr style=\"text-align: right;\">\n",
       "      <th></th>\n",
       "      <th>x1</th>\n",
       "      <th>x2</th>\n",
       "      <th>x3</th>\n",
       "      <th>y</th>\n",
       "    </tr>\n",
       "  </thead>\n",
       "  <tbody>\n",
       "    <tr>\n",
       "      <th>0</th>\n",
       "      <td>4.877673</td>\n",
       "      <td>5.106530</td>\n",
       "      <td>4.013049</td>\n",
       "      <td>False</td>\n",
       "    </tr>\n",
       "    <tr>\n",
       "      <th>1</th>\n",
       "      <td>3.843805</td>\n",
       "      <td>2.942174</td>\n",
       "      <td>1.661732</td>\n",
       "      <td>False</td>\n",
       "    </tr>\n",
       "    <tr>\n",
       "      <th>2</th>\n",
       "      <td>7.000882</td>\n",
       "      <td>6.344301</td>\n",
       "      <td>4.744567</td>\n",
       "      <td>True</td>\n",
       "    </tr>\n",
       "    <tr>\n",
       "      <th>3</th>\n",
       "      <td>5.037521</td>\n",
       "      <td>3.677396</td>\n",
       "      <td>4.919399</td>\n",
       "      <td>False</td>\n",
       "    </tr>\n",
       "    <tr>\n",
       "      <th>4</th>\n",
       "      <td>3.401168</td>\n",
       "      <td>2.177732</td>\n",
       "      <td>1.628488</td>\n",
       "      <td>False</td>\n",
       "    </tr>\n",
       "  </tbody>\n",
       "</table>\n",
       "</div>"
      ],
      "text/plain": [
       "         x1        x2        x3      y\n",
       "0  4.877673  5.106530  4.013049  False\n",
       "1  3.843805  2.942174  1.661732  False\n",
       "2  7.000882  6.344301  4.744567   True\n",
       "3  5.037521  3.677396  4.919399  False\n",
       "4  3.401168  2.177732  1.628488  False"
      ]
     },
     "execution_count": 5,
     "metadata": {},
     "output_type": "execute_result"
    }
   ],
   "source": [
    "train.head()"
   ]
  },
  {
   "cell_type": "code",
   "execution_count": 6,
   "id": "894c2809",
   "metadata": {},
   "outputs": [
    {
     "data": {
      "text/html": [
       "<div>\n",
       "<style scoped>\n",
       "    .dataframe tbody tr th:only-of-type {\n",
       "        vertical-align: middle;\n",
       "    }\n",
       "\n",
       "    .dataframe tbody tr th {\n",
       "        vertical-align: top;\n",
       "    }\n",
       "\n",
       "    .dataframe thead th {\n",
       "        text-align: right;\n",
       "    }\n",
       "</style>\n",
       "<table border=\"1\" class=\"dataframe\">\n",
       "  <thead>\n",
       "    <tr style=\"text-align: right;\">\n",
       "      <th></th>\n",
       "      <th>x1</th>\n",
       "      <th>x2</th>\n",
       "      <th>x3</th>\n",
       "      <th>y</th>\n",
       "    </tr>\n",
       "  </thead>\n",
       "  <tbody>\n",
       "    <tr>\n",
       "      <th>2</th>\n",
       "      <td>7.000882</td>\n",
       "      <td>6.344301</td>\n",
       "      <td>4.744567</td>\n",
       "      <td>True</td>\n",
       "    </tr>\n",
       "    <tr>\n",
       "      <th>8</th>\n",
       "      <td>3.760229</td>\n",
       "      <td>3.937783</td>\n",
       "      <td>6.731913</td>\n",
       "      <td>True</td>\n",
       "    </tr>\n",
       "    <tr>\n",
       "      <th>12</th>\n",
       "      <td>7.528421</td>\n",
       "      <td>5.040452</td>\n",
       "      <td>6.310083</td>\n",
       "      <td>True</td>\n",
       "    </tr>\n",
       "    <tr>\n",
       "      <th>16</th>\n",
       "      <td>4.488683</td>\n",
       "      <td>6.841637</td>\n",
       "      <td>4.633350</td>\n",
       "      <td>True</td>\n",
       "    </tr>\n",
       "    <tr>\n",
       "      <th>25</th>\n",
       "      <td>5.800157</td>\n",
       "      <td>4.645104</td>\n",
       "      <td>6.022055</td>\n",
       "      <td>True</td>\n",
       "    </tr>\n",
       "    <tr>\n",
       "      <th>...</th>\n",
       "      <td>...</td>\n",
       "      <td>...</td>\n",
       "      <td>...</td>\n",
       "      <td>...</td>\n",
       "    </tr>\n",
       "    <tr>\n",
       "      <th>444</th>\n",
       "      <td>6.979177</td>\n",
       "      <td>6.018636</td>\n",
       "      <td>5.159072</td>\n",
       "      <td>True</td>\n",
       "    </tr>\n",
       "    <tr>\n",
       "      <th>451</th>\n",
       "      <td>4.028689</td>\n",
       "      <td>5.373773</td>\n",
       "      <td>4.784407</td>\n",
       "      <td>True</td>\n",
       "    </tr>\n",
       "    <tr>\n",
       "      <th>457</th>\n",
       "      <td>4.983191</td>\n",
       "      <td>5.209033</td>\n",
       "      <td>5.682920</td>\n",
       "      <td>True</td>\n",
       "    </tr>\n",
       "    <tr>\n",
       "      <th>463</th>\n",
       "      <td>5.237195</td>\n",
       "      <td>3.584048</td>\n",
       "      <td>6.235499</td>\n",
       "      <td>True</td>\n",
       "    </tr>\n",
       "    <tr>\n",
       "      <th>481</th>\n",
       "      <td>6.358953</td>\n",
       "      <td>4.263221</td>\n",
       "      <td>5.760877</td>\n",
       "      <td>True</td>\n",
       "    </tr>\n",
       "  </tbody>\n",
       "</table>\n",
       "<p>68 rows × 4 columns</p>\n",
       "</div>"
      ],
      "text/plain": [
       "           x1        x2        x3     y\n",
       "2    7.000882  6.344301  4.744567  True\n",
       "8    3.760229  3.937783  6.731913  True\n",
       "12   7.528421  5.040452  6.310083  True\n",
       "16   4.488683  6.841637  4.633350  True\n",
       "25   5.800157  4.645104  6.022055  True\n",
       "..        ...       ...       ...   ...\n",
       "444  6.979177  6.018636  5.159072  True\n",
       "451  4.028689  5.373773  4.784407  True\n",
       "457  4.983191  5.209033  5.682920  True\n",
       "463  5.237195  3.584048  6.235499  True\n",
       "481  6.358953  4.263221  5.760877  True\n",
       "\n",
       "[68 rows x 4 columns]"
      ]
     },
     "execution_count": 6,
     "metadata": {},
     "output_type": "execute_result"
    }
   ],
   "source": [
    "train[train['y']]"
   ]
  },
  {
   "cell_type": "code",
   "execution_count": 8,
   "id": "8439eeb0",
   "metadata": {},
   "outputs": [
    {
     "data": {
      "text/html": [
       "<style>#sk-container-id-1 {color: black;background-color: white;}#sk-container-id-1 pre{padding: 0;}#sk-container-id-1 div.sk-toggleable {background-color: white;}#sk-container-id-1 label.sk-toggleable__label {cursor: pointer;display: block;width: 100%;margin-bottom: 0;padding: 0.3em;box-sizing: border-box;text-align: center;}#sk-container-id-1 label.sk-toggleable__label-arrow:before {content: \"▸\";float: left;margin-right: 0.25em;color: #696969;}#sk-container-id-1 label.sk-toggleable__label-arrow:hover:before {color: black;}#sk-container-id-1 div.sk-estimator:hover label.sk-toggleable__label-arrow:before {color: black;}#sk-container-id-1 div.sk-toggleable__content {max-height: 0;max-width: 0;overflow: hidden;text-align: left;background-color: #f0f8ff;}#sk-container-id-1 div.sk-toggleable__content pre {margin: 0.2em;color: black;border-radius: 0.25em;background-color: #f0f8ff;}#sk-container-id-1 input.sk-toggleable__control:checked~div.sk-toggleable__content {max-height: 200px;max-width: 100%;overflow: auto;}#sk-container-id-1 input.sk-toggleable__control:checked~label.sk-toggleable__label-arrow:before {content: \"▾\";}#sk-container-id-1 div.sk-estimator input.sk-toggleable__control:checked~label.sk-toggleable__label {background-color: #d4ebff;}#sk-container-id-1 div.sk-label input.sk-toggleable__control:checked~label.sk-toggleable__label {background-color: #d4ebff;}#sk-container-id-1 input.sk-hidden--visually {border: 0;clip: rect(1px 1px 1px 1px);clip: rect(1px, 1px, 1px, 1px);height: 1px;margin: -1px;overflow: hidden;padding: 0;position: absolute;width: 1px;}#sk-container-id-1 div.sk-estimator {font-family: monospace;background-color: #f0f8ff;border: 1px dotted black;border-radius: 0.25em;box-sizing: border-box;margin-bottom: 0.5em;}#sk-container-id-1 div.sk-estimator:hover {background-color: #d4ebff;}#sk-container-id-1 div.sk-parallel-item::after {content: \"\";width: 100%;border-bottom: 1px solid gray;flex-grow: 1;}#sk-container-id-1 div.sk-label:hover label.sk-toggleable__label {background-color: #d4ebff;}#sk-container-id-1 div.sk-serial::before {content: \"\";position: absolute;border-left: 1px solid gray;box-sizing: border-box;top: 0;bottom: 0;left: 50%;z-index: 0;}#sk-container-id-1 div.sk-serial {display: flex;flex-direction: column;align-items: center;background-color: white;padding-right: 0.2em;padding-left: 0.2em;position: relative;}#sk-container-id-1 div.sk-item {position: relative;z-index: 1;}#sk-container-id-1 div.sk-parallel {display: flex;align-items: stretch;justify-content: center;background-color: white;position: relative;}#sk-container-id-1 div.sk-item::before, #sk-container-id-1 div.sk-parallel-item::before {content: \"\";position: absolute;border-left: 1px solid gray;box-sizing: border-box;top: 0;bottom: 0;left: 50%;z-index: -1;}#sk-container-id-1 div.sk-parallel-item {display: flex;flex-direction: column;z-index: 1;position: relative;background-color: white;}#sk-container-id-1 div.sk-parallel-item:first-child::after {align-self: flex-end;width: 50%;}#sk-container-id-1 div.sk-parallel-item:last-child::after {align-self: flex-start;width: 50%;}#sk-container-id-1 div.sk-parallel-item:only-child::after {width: 0;}#sk-container-id-1 div.sk-dashed-wrapped {border: 1px dashed gray;margin: 0 0.4em 0.5em 0.4em;box-sizing: border-box;padding-bottom: 0.4em;background-color: white;}#sk-container-id-1 div.sk-label label {font-family: monospace;font-weight: bold;display: inline-block;line-height: 1.2em;}#sk-container-id-1 div.sk-label-container {text-align: center;}#sk-container-id-1 div.sk-container {/* jupyter's `normalize.less` sets `[hidden] { display: none; }` but bootstrap.min.css set `[hidden] { display: none !important; }` so we also need the `!important` here to be able to override the default hidden behavior on the sphinx rendered scikit-learn.org. See: https://github.com/scikit-learn/scikit-learn/issues/21755 */display: inline-block !important;position: relative;}#sk-container-id-1 div.sk-text-repr-fallback {display: none;}</style><div id=\"sk-container-id-1\" class=\"sk-top-container\"><div class=\"sk-text-repr-fallback\"><pre>LogisticRegression()</pre><b>In a Jupyter environment, please rerun this cell to show the HTML representation or trust the notebook. <br />On GitHub, the HTML representation is unable to render, please try loading this page with nbviewer.org.</b></div><div class=\"sk-container\" hidden><div class=\"sk-item\"><div class=\"sk-estimator sk-toggleable\"><input class=\"sk-toggleable__control sk-hidden--visually\" id=\"sk-estimator-id-1\" type=\"checkbox\" checked><label for=\"sk-estimator-id-1\" class=\"sk-toggleable__label sk-toggleable__label-arrow\">LogisticRegression</label><div class=\"sk-toggleable__content\"><pre>LogisticRegression()</pre></div></div></div></div></div>"
      ],
      "text/plain": [
       "LogisticRegression()"
      ]
     },
     "execution_count": 8,
     "metadata": {},
     "output_type": "execute_result"
    }
   ],
   "source": [
    "xcols = ['x1', 'x2', 'x3']\n",
    "model = LogisticRegression()\n",
    "model.fit(train[xcols], train['y'])"
   ]
  },
  {
   "cell_type": "code",
   "execution_count": 9,
   "id": "fe027346",
   "metadata": {},
   "outputs": [
    {
     "data": {
      "text/plain": [
       "0.906"
      ]
     },
     "execution_count": 9,
     "metadata": {},
     "output_type": "execute_result"
    }
   ],
   "source": [
    "model.score(test[xcols], test['y'])"
   ]
  },
  {
   "cell_type": "code",
   "execution_count": 12,
   "id": "a73a4ff9",
   "metadata": {},
   "outputs": [
    {
     "data": {
      "text/plain": [
       "y\n",
       "False    84.0\n",
       "True     16.0\n",
       "Name: count, dtype: float64"
      ]
     },
     "execution_count": 12,
     "metadata": {},
     "output_type": "execute_result"
    }
   ],
   "source": [
    "test['y'].value_counts()/ len(test)*100"
   ]
  },
  {
   "cell_type": "code",
   "execution_count": 13,
   "id": "1388c351",
   "metadata": {},
   "outputs": [
    {
     "data": {
      "text/plain": [
       "array([[1.08527687, 0.9463461 , 0.8407277 ]])"
      ]
     },
     "execution_count": 13,
     "metadata": {},
     "output_type": "execute_result"
    }
   ],
   "source": [
    "model.coef_"
   ]
  },
  {
   "cell_type": "code",
   "execution_count": 14,
   "id": "8e0111a0",
   "metadata": {},
   "outputs": [
    {
     "data": {
      "text/plain": [
       "<Axes: >"
      ]
     },
     "execution_count": 14,
     "metadata": {},
     "output_type": "execute_result"
    },
    {
     "data": {
      "image/png": "[encoded data removed]",
      "text/plain": [
       "<Figure size 640x480 with 1 Axes>"
      ]
     },
     "metadata": {},
     "output_type": "display_data"
    }
   ],
   "source": [
    "pd.Series(model.coef_.reshape(-1), index=xcols).plot.bar()"
   ]
  },
  {
   "cell_type": "code",
   "execution_count": 15,
   "id": "d65a7812",
   "metadata": {},
   "outputs": [
    {
     "data": {
      "text/plain": [
       "array([-15.48860101])"
      ]
     },
     "execution_count": 15,
     "metadata": {},
     "output_type": "execute_result"
    }
   ],
   "source": [
    "model.intercept_"
   ]
  },
  {
   "cell_type": "code",
   "execution_count": 22,
   "id": "bdf5abd6",
   "metadata": {},
   "outputs": [],
   "source": [
    "true_feet = np.random.normal(4, size = 1000)\n",
    "category = true_feet > 5\n",
    "df = pd.DataFrame({\n",
    "    'x1': true_feet + np.random.normal(size = len(true_feet)),\n",
    "    'x2': (true_feet + np.random.normal(size = len(true_feet))) / 5280,  # feet to miles \n",
    "    'x3': true_feet + np.random.normal(size = len(true_feet)),\n",
    "    'y': category\n",
    "})\n",
    "\n",
    "train, test = df.iloc[:500].copy(), df.iloc[500:].copy()"
   ]
  },
  {
   "cell_type": "code",
   "execution_count": 23,
   "id": "26495f4b",
   "metadata": {},
   "outputs": [
    {
     "data": {
      "text/html": [
       "<div>\n",
       "<style scoped>\n",
       "    .dataframe tbody tr th:only-of-type {\n",
       "        vertical-align: middle;\n",
       "    }\n",
       "\n",
       "    .dataframe tbody tr th {\n",
       "        vertical-align: top;\n",
       "    }\n",
       "\n",
       "    .dataframe thead th {\n",
       "        text-align: right;\n",
       "    }\n",
       "</style>\n",
       "<table border=\"1\" class=\"dataframe\">\n",
       "  <thead>\n",
       "    <tr style=\"text-align: right;\">\n",
       "      <th></th>\n",
       "      <th>x1</th>\n",
       "      <th>x2</th>\n",
       "      <th>x3</th>\n",
       "      <th>y</th>\n",
       "    </tr>\n",
       "  </thead>\n",
       "  <tbody>\n",
       "    <tr>\n",
       "      <th>0</th>\n",
       "      <td>1.413390</td>\n",
       "      <td>0.000350</td>\n",
       "      <td>0.406623</td>\n",
       "      <td>False</td>\n",
       "    </tr>\n",
       "    <tr>\n",
       "      <th>1</th>\n",
       "      <td>4.566551</td>\n",
       "      <td>0.000571</td>\n",
       "      <td>7.200722</td>\n",
       "      <td>False</td>\n",
       "    </tr>\n",
       "    <tr>\n",
       "      <th>2</th>\n",
       "      <td>1.442632</td>\n",
       "      <td>0.000142</td>\n",
       "      <td>1.751717</td>\n",
       "      <td>False</td>\n",
       "    </tr>\n",
       "    <tr>\n",
       "      <th>3</th>\n",
       "      <td>6.253439</td>\n",
       "      <td>0.001082</td>\n",
       "      <td>3.581290</td>\n",
       "      <td>False</td>\n",
       "    </tr>\n",
       "    <tr>\n",
       "      <th>4</th>\n",
       "      <td>3.039206</td>\n",
       "      <td>0.001087</td>\n",
       "      <td>3.037550</td>\n",
       "      <td>False</td>\n",
       "    </tr>\n",
       "  </tbody>\n",
       "</table>\n",
       "</div>"
      ],
      "text/plain": [
       "         x1        x2        x3      y\n",
       "0  1.413390  0.000350  0.406623  False\n",
       "1  4.566551  0.000571  7.200722  False\n",
       "2  1.442632  0.000142  1.751717  False\n",
       "3  6.253439  0.001082  3.581290  False\n",
       "4  3.039206  0.001087  3.037550  False"
      ]
     },
     "execution_count": 23,
     "metadata": {},
     "output_type": "execute_result"
    }
   ],
   "source": [
    "train.head()"
   ]
  },
  {
   "cell_type": "code",
   "execution_count": 24,
   "id": "fd3436ae",
   "metadata": {},
   "outputs": [
    {
     "data": {
      "text/html": [
       "<style>#sk-container-id-3 {color: black;background-color: white;}#sk-container-id-3 pre{padding: 0;}#sk-container-id-3 div.sk-toggleable {background-color: white;}#sk-container-id-3 label.sk-toggleable__label {cursor: pointer;display: block;width: 100%;margin-bottom: 0;padding: 0.3em;box-sizing: border-box;text-align: center;}#sk-container-id-3 label.sk-toggleable__label-arrow:before {content: \"▸\";float: left;margin-right: 0.25em;color: #696969;}#sk-container-id-3 label.sk-toggleable__label-arrow:hover:before {color: black;}#sk-container-id-3 div.sk-estimator:hover label.sk-toggleable__label-arrow:before {color: black;}#sk-container-id-3 div.sk-toggleable__content {max-height: 0;max-width: 0;overflow: hidden;text-align: left;background-color: #f0f8ff;}#sk-container-id-3 div.sk-toggleable__content pre {margin: 0.2em;color: black;border-radius: 0.25em;background-color: #f0f8ff;}#sk-container-id-3 input.sk-toggleable__control:checked~div.sk-toggleable__content {max-height: 200px;max-width: 100%;overflow: auto;}#sk-container-id-3 input.sk-toggleable__control:checked~label.sk-toggleable__label-arrow:before {content: \"▾\";}#sk-container-id-3 div.sk-estimator input.sk-toggleable__control:checked~label.sk-toggleable__label {background-color: #d4ebff;}#sk-container-id-3 div.sk-label input.sk-toggleable__control:checked~label.sk-toggleable__label {background-color: #d4ebff;}#sk-container-id-3 input.sk-hidden--visually {border: 0;clip: rect(1px 1px 1px 1px);clip: rect(1px, 1px, 1px, 1px);height: 1px;margin: -1px;overflow: hidden;padding: 0;position: absolute;width: 1px;}#sk-container-id-3 div.sk-estimator {font-family: monospace;background-color: #f0f8ff;border: 1px dotted black;border-radius: 0.25em;box-sizing: border-box;margin-bottom: 0.5em;}#sk-container-id-3 div.sk-estimator:hover {background-color: #d4ebff;}#sk-container-id-3 div.sk-parallel-item::after {content: \"\";width: 100%;border-bottom: 1px solid gray;flex-grow: 1;}#sk-container-id-3 div.sk-label:hover label.sk-toggleable__label {background-color: #d4ebff;}#sk-container-id-3 div.sk-serial::before {content: \"\";position: absolute;border-left: 1px solid gray;box-sizing: border-box;top: 0;bottom: 0;left: 50%;z-index: 0;}#sk-container-id-3 div.sk-serial {display: flex;flex-direction: column;align-items: center;background-color: white;padding-right: 0.2em;padding-left: 0.2em;position: relative;}#sk-container-id-3 div.sk-item {position: relative;z-index: 1;}#sk-container-id-3 div.sk-parallel {display: flex;align-items: stretch;justify-content: center;background-color: white;position: relative;}#sk-container-id-3 div.sk-item::before, #sk-container-id-3 div.sk-parallel-item::before {content: \"\";position: absolute;border-left: 1px solid gray;box-sizing: border-box;top: 0;bottom: 0;left: 50%;z-index: -1;}#sk-container-id-3 div.sk-parallel-item {display: flex;flex-direction: column;z-index: 1;position: relative;background-color: white;}#sk-container-id-3 div.sk-parallel-item:first-child::after {align-self: flex-end;width: 50%;}#sk-container-id-3 div.sk-parallel-item:last-child::after {align-self: flex-start;width: 50%;}#sk-container-id-3 div.sk-parallel-item:only-child::after {width: 0;}#sk-container-id-3 div.sk-dashed-wrapped {border: 1px dashed gray;margin: 0 0.4em 0.5em 0.4em;box-sizing: border-box;padding-bottom: 0.4em;background-color: white;}#sk-container-id-3 div.sk-label label {font-family: monospace;font-weight: bold;display: inline-block;line-height: 1.2em;}#sk-container-id-3 div.sk-label-container {text-align: center;}#sk-container-id-3 div.sk-container {/* jupyter's `normalize.less` sets `[hidden] { display: none; }` but bootstrap.min.css set `[hidden] { display: none !important; }` so we also need the `!important` here to be able to override the default hidden behavior on the sphinx rendered scikit-learn.org. See: https://github.com/scikit-learn/scikit-learn/issues/21755 */display: inline-block !important;position: relative;}#sk-container-id-3 div.sk-text-repr-fallback {display: none;}</style><div id=\"sk-container-id-3\" class=\"sk-top-container\"><div class=\"sk-text-repr-fallback\"><pre>LogisticRegression()</pre><b>In a Jupyter environment, please rerun this cell to show the HTML representation or trust the notebook. <br />On GitHub, the HTML representation is unable to render, please try loading this page with nbviewer.org.</b></div><div class=\"sk-container\" hidden><div class=\"sk-item\"><div class=\"sk-estimator sk-toggleable\"><input class=\"sk-toggleable__control sk-hidden--visually\" id=\"sk-estimator-id-3\" type=\"checkbox\" checked><label for=\"sk-estimator-id-3\" class=\"sk-toggleable__label sk-toggleable__label-arrow\">LogisticRegression</label><div class=\"sk-toggleable__content\"><pre>LogisticRegression()</pre></div></div></div></div></div>"
      ],
      "text/plain": [
       "LogisticRegression()"
      ]
     },
     "execution_count": 24,
     "metadata": {},
     "output_type": "execute_result"
    }
   ],
   "source": [
    "xcols = ['x1', 'x2', 'x3']\n",
    "model = LogisticRegression()\n",
    "model.fit(train[xcols], train['y'])"
   ]
  },
  {
   "cell_type": "code",
   "execution_count": 25,
   "id": "afebd8d9",
   "metadata": {},
   "outputs": [
    {
     "data": {
      "text/plain": [
       "<Axes: >"
      ]
     },
     "execution_count": 25,
     "metadata": {},
     "output_type": "execute_result"
    },
    {
     "data": {
      "image/png": "[encoded data removed]",
      "text/plain": [
       "<Figure size 640x480 with 1 Axes>"
      ]
     },
     "metadata": {},
     "output_type": "display_data"
    }
   ],
   "source": [
    "pd.Series(model.coef_.reshape(-1), index=xcols).plot.bar()"
   ]
  },
  {
   "cell_type": "code",
   "execution_count": 26,
   "id": "780c88b0",
   "metadata": {},
   "outputs": [
    {
     "data": {
      "text/html": [
       "<div>\n",
       "<style scoped>\n",
       "    .dataframe tbody tr th:only-of-type {\n",
       "        vertical-align: middle;\n",
       "    }\n",
       "\n",
       "    .dataframe tbody tr th {\n",
       "        vertical-align: top;\n",
       "    }\n",
       "\n",
       "    .dataframe thead th {\n",
       "        text-align: right;\n",
       "    }\n",
       "</style>\n",
       "<table border=\"1\" class=\"dataframe\">\n",
       "  <thead>\n",
       "    <tr style=\"text-align: right;\">\n",
       "      <th></th>\n",
       "      <th>x1</th>\n",
       "      <th>x2</th>\n",
       "      <th>x3</th>\n",
       "    </tr>\n",
       "  </thead>\n",
       "  <tbody>\n",
       "    <tr>\n",
       "      <th>0</th>\n",
       "      <td>-2.519628</td>\n",
       "      <td>-0.000410</td>\n",
       "      <td>-3.632467</td>\n",
       "    </tr>\n",
       "    <tr>\n",
       "      <th>1</th>\n",
       "      <td>0.633533</td>\n",
       "      <td>-0.000189</td>\n",
       "      <td>3.161632</td>\n",
       "    </tr>\n",
       "    <tr>\n",
       "      <th>2</th>\n",
       "      <td>-2.490386</td>\n",
       "      <td>-0.000618</td>\n",
       "      <td>-2.287373</td>\n",
       "    </tr>\n",
       "    <tr>\n",
       "      <th>3</th>\n",
       "      <td>2.320421</td>\n",
       "      <td>0.000322</td>\n",
       "      <td>-0.457800</td>\n",
       "    </tr>\n",
       "    <tr>\n",
       "      <th>4</th>\n",
       "      <td>-0.893812</td>\n",
       "      <td>0.000327</td>\n",
       "      <td>-1.001540</td>\n",
       "    </tr>\n",
       "    <tr>\n",
       "      <th>...</th>\n",
       "      <td>...</td>\n",
       "      <td>...</td>\n",
       "      <td>...</td>\n",
       "    </tr>\n",
       "    <tr>\n",
       "      <th>495</th>\n",
       "      <td>-0.070712</td>\n",
       "      <td>0.000083</td>\n",
       "      <td>0.317605</td>\n",
       "    </tr>\n",
       "    <tr>\n",
       "      <th>496</th>\n",
       "      <td>-2.487791</td>\n",
       "      <td>-0.000136</td>\n",
       "      <td>-1.145407</td>\n",
       "    </tr>\n",
       "    <tr>\n",
       "      <th>497</th>\n",
       "      <td>-0.309484</td>\n",
       "      <td>-0.000093</td>\n",
       "      <td>-1.279758</td>\n",
       "    </tr>\n",
       "    <tr>\n",
       "      <th>498</th>\n",
       "      <td>-1.823121</td>\n",
       "      <td>-0.000262</td>\n",
       "      <td>-0.251403</td>\n",
       "    </tr>\n",
       "    <tr>\n",
       "      <th>499</th>\n",
       "      <td>-0.716928</td>\n",
       "      <td>0.000325</td>\n",
       "      <td>1.179431</td>\n",
       "    </tr>\n",
       "  </tbody>\n",
       "</table>\n",
       "<p>500 rows × 3 columns</p>\n",
       "</div>"
      ],
      "text/plain": [
       "           x1        x2        x3\n",
       "0   -2.519628 -0.000410 -3.632467\n",
       "1    0.633533 -0.000189  3.161632\n",
       "2   -2.490386 -0.000618 -2.287373\n",
       "3    2.320421  0.000322 -0.457800\n",
       "4   -0.893812  0.000327 -1.001540\n",
       "..        ...       ...       ...\n",
       "495 -0.070712  0.000083  0.317605\n",
       "496 -2.487791 -0.000136 -1.145407\n",
       "497 -0.309484 -0.000093 -1.279758\n",
       "498 -1.823121 -0.000262 -0.251403\n",
       "499 -0.716928  0.000325  1.179431\n",
       "\n",
       "[500 rows x 3 columns]"
      ]
     },
     "execution_count": 26,
     "metadata": {},
     "output_type": "execute_result"
    }
   ],
   "source": [
    "X = train.loc[:, 'x1':'x3']\n",
    "X - X.mean()"
   ]
  },
  {
   "cell_type": "code",
   "execution_count": 27,
   "id": "208cd442",
   "metadata": {},
   "outputs": [
    {
     "data": {
      "text/plain": [
       "x1    1.427494\n",
       "x2    0.000277\n",
       "x3    1.458586\n",
       "dtype: float64"
      ]
     },
     "execution_count": 27,
     "metadata": {},
     "output_type": "execute_result"
    }
   ],
   "source": [
    "X.std()"
   ]
  },
  {
   "cell_type": "code",
   "execution_count": 29,
   "id": "af6103fc",
   "metadata": {},
   "outputs": [
    {
     "data": {
      "text/html": [
       "<div>\n",
       "<style scoped>\n",
       "    .dataframe tbody tr th:only-of-type {\n",
       "        vertical-align: middle;\n",
       "    }\n",
       "\n",
       "    .dataframe tbody tr th {\n",
       "        vertical-align: top;\n",
       "    }\n",
       "\n",
       "    .dataframe thead th {\n",
       "        text-align: right;\n",
       "    }\n",
       "</style>\n",
       "<table border=\"1\" class=\"dataframe\">\n",
       "  <thead>\n",
       "    <tr style=\"text-align: right;\">\n",
       "      <th></th>\n",
       "      <th>x1</th>\n",
       "      <th>x2</th>\n",
       "      <th>x3</th>\n",
       "    </tr>\n",
       "  </thead>\n",
       "  <tbody>\n",
       "    <tr>\n",
       "      <th>0</th>\n",
       "      <td>-1.765071</td>\n",
       "      <td>-1.480535</td>\n",
       "      <td>-2.490403</td>\n",
       "    </tr>\n",
       "    <tr>\n",
       "      <th>1</th>\n",
       "      <td>0.443808</td>\n",
       "      <td>-0.680678</td>\n",
       "      <td>2.167600</td>\n",
       "    </tr>\n",
       "    <tr>\n",
       "      <th>2</th>\n",
       "      <td>-1.744586</td>\n",
       "      <td>-2.230162</td>\n",
       "      <td>-1.568212</td>\n",
       "    </tr>\n",
       "    <tr>\n",
       "      <th>3</th>\n",
       "      <td>1.625521</td>\n",
       "      <td>1.161119</td>\n",
       "      <td>-0.313865</td>\n",
       "    </tr>\n",
       "    <tr>\n",
       "      <th>4</th>\n",
       "      <td>-0.626141</td>\n",
       "      <td>1.180349</td>\n",
       "      <td>-0.686651</td>\n",
       "    </tr>\n",
       "    <tr>\n",
       "      <th>...</th>\n",
       "      <td>...</td>\n",
       "      <td>...</td>\n",
       "      <td>...</td>\n",
       "    </tr>\n",
       "    <tr>\n",
       "      <th>495</th>\n",
       "      <td>-0.049536</td>\n",
       "      <td>0.300126</td>\n",
       "      <td>0.217749</td>\n",
       "    </tr>\n",
       "    <tr>\n",
       "      <th>496</th>\n",
       "      <td>-1.742769</td>\n",
       "      <td>-0.491895</td>\n",
       "      <td>-0.785286</td>\n",
       "    </tr>\n",
       "    <tr>\n",
       "      <th>497</th>\n",
       "      <td>-0.216802</td>\n",
       "      <td>-0.334670</td>\n",
       "      <td>-0.877396</td>\n",
       "    </tr>\n",
       "    <tr>\n",
       "      <th>498</th>\n",
       "      <td>-1.277148</td>\n",
       "      <td>-0.946617</td>\n",
       "      <td>-0.172361</td>\n",
       "    </tr>\n",
       "    <tr>\n",
       "      <th>499</th>\n",
       "      <td>-0.502228</td>\n",
       "      <td>1.171992</td>\n",
       "      <td>0.808612</td>\n",
       "    </tr>\n",
       "  </tbody>\n",
       "</table>\n",
       "<p>500 rows × 3 columns</p>\n",
       "</div>"
      ],
      "text/plain": [
       "           x1        x2        x3\n",
       "0   -1.765071 -1.480535 -2.490403\n",
       "1    0.443808 -0.680678  2.167600\n",
       "2   -1.744586 -2.230162 -1.568212\n",
       "3    1.625521  1.161119 -0.313865\n",
       "4   -0.626141  1.180349 -0.686651\n",
       "..        ...       ...       ...\n",
       "495 -0.049536  0.300126  0.217749\n",
       "496 -1.742769 -0.491895 -0.785286\n",
       "497 -0.216802 -0.334670 -0.877396\n",
       "498 -1.277148 -0.946617 -0.172361\n",
       "499 -0.502228  1.171992  0.808612\n",
       "\n",
       "[500 rows x 3 columns]"
      ]
     },
     "execution_count": 29,
     "metadata": {},
     "output_type": "execute_result"
    }
   ],
   "source": [
    "(X - X.mean())/ X.std()"
   ]
  },
  {
   "cell_type": "code",
   "execution_count": 30,
   "id": "7ede41f5",
   "metadata": {},
   "outputs": [
    {
     "data": {
      "text/html": [
       "<style>#sk-container-id-4 {color: black;background-color: white;}#sk-container-id-4 pre{padding: 0;}#sk-container-id-4 div.sk-toggleable {background-color: white;}#sk-container-id-4 label.sk-toggleable__label {cursor: pointer;display: block;width: 100%;margin-bottom: 0;padding: 0.3em;box-sizing: border-box;text-align: center;}#sk-container-id-4 label.sk-toggleable__label-arrow:before {content: \"▸\";float: left;margin-right: 0.25em;color: #696969;}#sk-container-id-4 label.sk-toggleable__label-arrow:hover:before {color: black;}#sk-container-id-4 div.sk-estimator:hover label.sk-toggleable__label-arrow:before {color: black;}#sk-container-id-4 div.sk-toggleable__content {max-height: 0;max-width: 0;overflow: hidden;text-align: left;background-color: #f0f8ff;}#sk-container-id-4 div.sk-toggleable__content pre {margin: 0.2em;color: black;border-radius: 0.25em;background-color: #f0f8ff;}#sk-container-id-4 input.sk-toggleable__control:checked~div.sk-toggleable__content {max-height: 200px;max-width: 100%;overflow: auto;}#sk-container-id-4 input.sk-toggleable__control:checked~label.sk-toggleable__label-arrow:before {content: \"▾\";}#sk-container-id-4 div.sk-estimator input.sk-toggleable__control:checked~label.sk-toggleable__label {background-color: #d4ebff;}#sk-container-id-4 div.sk-label input.sk-toggleable__control:checked~label.sk-toggleable__label {background-color: #d4ebff;}#sk-container-id-4 input.sk-hidden--visually {border: 0;clip: rect(1px 1px 1px 1px);clip: rect(1px, 1px, 1px, 1px);height: 1px;margin: -1px;overflow: hidden;padding: 0;position: absolute;width: 1px;}#sk-container-id-4 div.sk-estimator {font-family: monospace;background-color: #f0f8ff;border: 1px dotted black;border-radius: 0.25em;box-sizing: border-box;margin-bottom: 0.5em;}#sk-container-id-4 div.sk-estimator:hover {background-color: #d4ebff;}#sk-container-id-4 div.sk-parallel-item::after {content: \"\";width: 100%;border-bottom: 1px solid gray;flex-grow: 1;}#sk-container-id-4 div.sk-label:hover label.sk-toggleable__label {background-color: #d4ebff;}#sk-container-id-4 div.sk-serial::before {content: \"\";position: absolute;border-left: 1px solid gray;box-sizing: border-box;top: 0;bottom: 0;left: 50%;z-index: 0;}#sk-container-id-4 div.sk-serial {display: flex;flex-direction: column;align-items: center;background-color: white;padding-right: 0.2em;padding-left: 0.2em;position: relative;}#sk-container-id-4 div.sk-item {position: relative;z-index: 1;}#sk-container-id-4 div.sk-parallel {display: flex;align-items: stretch;justify-content: center;background-color: white;position: relative;}#sk-container-id-4 div.sk-item::before, #sk-container-id-4 div.sk-parallel-item::before {content: \"\";position: absolute;border-left: 1px solid gray;box-sizing: border-box;top: 0;bottom: 0;left: 50%;z-index: -1;}#sk-container-id-4 div.sk-parallel-item {display: flex;flex-direction: column;z-index: 1;position: relative;background-color: white;}#sk-container-id-4 div.sk-parallel-item:first-child::after {align-self: flex-end;width: 50%;}#sk-container-id-4 div.sk-parallel-item:last-child::after {align-self: flex-start;width: 50%;}#sk-container-id-4 div.sk-parallel-item:only-child::after {width: 0;}#sk-container-id-4 div.sk-dashed-wrapped {border: 1px dashed gray;margin: 0 0.4em 0.5em 0.4em;box-sizing: border-box;padding-bottom: 0.4em;background-color: white;}#sk-container-id-4 div.sk-label label {font-family: monospace;font-weight: bold;display: inline-block;line-height: 1.2em;}#sk-container-id-4 div.sk-label-container {text-align: center;}#sk-container-id-4 div.sk-container {/* jupyter's `normalize.less` sets `[hidden] { display: none; }` but bootstrap.min.css set `[hidden] { display: none !important; }` so we also need the `!important` here to be able to override the default hidden behavior on the sphinx rendered scikit-learn.org. See: https://github.com/scikit-learn/scikit-learn/issues/21755 */display: inline-block !important;position: relative;}#sk-container-id-4 div.sk-text-repr-fallback {display: none;}</style><div id=\"sk-container-id-4\" class=\"sk-top-container\"><div class=\"sk-text-repr-fallback\"><pre>LogisticRegression()</pre><b>In a Jupyter environment, please rerun this cell to show the HTML representation or trust the notebook. <br />On GitHub, the HTML representation is unable to render, please try loading this page with nbviewer.org.</b></div><div class=\"sk-container\" hidden><div class=\"sk-item\"><div class=\"sk-estimator sk-toggleable\"><input class=\"sk-toggleable__control sk-hidden--visually\" id=\"sk-estimator-id-4\" type=\"checkbox\" checked><label for=\"sk-estimator-id-4\" class=\"sk-toggleable__label sk-toggleable__label-arrow\">LogisticRegression</label><div class=\"sk-toggleable__content\"><pre>LogisticRegression()</pre></div></div></div></div></div>"
      ],
      "text/plain": [
       "LogisticRegression()"
      ]
     },
     "execution_count": 30,
     "metadata": {},
     "output_type": "execute_result"
    }
   ],
   "source": [
    "xcols = ['x1', 'x2', 'x3']\n",
    "model = LogisticRegression()\n",
    "model.fit(X[xcols], train['y'])"
   ]
  },
  {
   "cell_type": "code",
   "execution_count": 35,
   "id": "b2f2326c",
   "metadata": {},
   "outputs": [
    {
     "data": {
      "text/html": [
       "<div>\n",
       "<style scoped>\n",
       "    .dataframe tbody tr th:only-of-type {\n",
       "        vertical-align: middle;\n",
       "    }\n",
       "\n",
       "    .dataframe tbody tr th {\n",
       "        vertical-align: top;\n",
       "    }\n",
       "\n",
       "    .dataframe thead th {\n",
       "        text-align: right;\n",
       "    }\n",
       "</style>\n",
       "<table border=\"1\" class=\"dataframe\">\n",
       "  <thead>\n",
       "    <tr style=\"text-align: right;\">\n",
       "      <th></th>\n",
       "      <th>x1</th>\n",
       "      <th>x2</th>\n",
       "      <th>x3</th>\n",
       "    </tr>\n",
       "  </thead>\n",
       "  <tbody>\n",
       "    <tr>\n",
       "      <th>500</th>\n",
       "      <td>2.587808</td>\n",
       "      <td>0.000808</td>\n",
       "      <td>2.454910</td>\n",
       "    </tr>\n",
       "    <tr>\n",
       "      <th>501</th>\n",
       "      <td>5.269493</td>\n",
       "      <td>0.000794</td>\n",
       "      <td>4.858625</td>\n",
       "    </tr>\n",
       "    <tr>\n",
       "      <th>502</th>\n",
       "      <td>4.350515</td>\n",
       "      <td>0.000551</td>\n",
       "      <td>3.591576</td>\n",
       "    </tr>\n",
       "    <tr>\n",
       "      <th>503</th>\n",
       "      <td>4.057527</td>\n",
       "      <td>0.001125</td>\n",
       "      <td>3.734312</td>\n",
       "    </tr>\n",
       "    <tr>\n",
       "      <th>504</th>\n",
       "      <td>4.282669</td>\n",
       "      <td>0.001400</td>\n",
       "      <td>6.674319</td>\n",
       "    </tr>\n",
       "    <tr>\n",
       "      <th>...</th>\n",
       "      <td>...</td>\n",
       "      <td>...</td>\n",
       "      <td>...</td>\n",
       "    </tr>\n",
       "    <tr>\n",
       "      <th>995</th>\n",
       "      <td>3.766473</td>\n",
       "      <td>0.000783</td>\n",
       "      <td>3.895878</td>\n",
       "    </tr>\n",
       "    <tr>\n",
       "      <th>996</th>\n",
       "      <td>4.702820</td>\n",
       "      <td>0.000789</td>\n",
       "      <td>5.757476</td>\n",
       "    </tr>\n",
       "    <tr>\n",
       "      <th>997</th>\n",
       "      <td>5.434676</td>\n",
       "      <td>0.001039</td>\n",
       "      <td>3.107882</td>\n",
       "    </tr>\n",
       "    <tr>\n",
       "      <th>998</th>\n",
       "      <td>1.432983</td>\n",
       "      <td>0.000518</td>\n",
       "      <td>1.829717</td>\n",
       "    </tr>\n",
       "    <tr>\n",
       "      <th>999</th>\n",
       "      <td>5.897998</td>\n",
       "      <td>0.000495</td>\n",
       "      <td>3.771933</td>\n",
       "    </tr>\n",
       "  </tbody>\n",
       "</table>\n",
       "<p>500 rows × 3 columns</p>\n",
       "</div>"
      ],
      "text/plain": [
       "           x1        x2        x3\n",
       "500  2.587808  0.000808  2.454910\n",
       "501  5.269493  0.000794  4.858625\n",
       "502  4.350515  0.000551  3.591576\n",
       "503  4.057527  0.001125  3.734312\n",
       "504  4.282669  0.001400  6.674319\n",
       "..        ...       ...       ...\n",
       "995  3.766473  0.000783  3.895878\n",
       "996  4.702820  0.000789  5.757476\n",
       "997  5.434676  0.001039  3.107882\n",
       "998  1.432983  0.000518  1.829717\n",
       "999  5.897998  0.000495  3.771933\n",
       "\n",
       "[500 rows x 3 columns]"
      ]
     },
     "execution_count": 35,
     "metadata": {},
     "output_type": "execute_result"
    }
   ],
   "source": [
    "test[xcols]"
   ]
  },
  {
   "cell_type": "code",
   "execution_count": 31,
   "id": "e484342e",
   "metadata": {},
   "outputs": [
    {
     "data": {
      "text/plain": [
       "0.856"
      ]
     },
     "execution_count": 31,
     "metadata": {},
     "output_type": "execute_result"
    }
   ],
   "source": [
    "model.score(test[xcols], test['y'])"
   ]
  },
  {
   "cell_type": "markdown",
   "id": "ce48eaad",
   "metadata": {},
   "source": [
    "# Linear vs. Ridge vs. Lasso"
   ]
  },
  {
   "cell_type": "markdown",
   "id": "a76c5d30",
   "metadata": {},
   "source": [
    "source: https://www.youtube.com/watch?v=V-Ov_QLcIvg"
   ]
  },
  {
   "cell_type": "code",
   "execution_count": 40,
   "id": "ea4bd3c2",
   "metadata": {},
   "outputs": [],
   "source": [
    "from plotnine import *\n",
    "from sklearn.decomposition import PCA\n",
    "import pandas as pd\n",
    "\n",
    "from sklearn.preprocessing import StandardScaler\n",
    "from sklearn.linear_model import LinearRegression, Ridge, Lasso\n",
    "from sklearn.metrics import r2_score, mean_squared_error, mean_absolute_error\n",
    "from sklearn.model_selection import train_test_split"
   ]
  },
  {
   "cell_type": "code",
   "execution_count": 47,
   "id": "7059b0b4",
   "metadata": {},
   "outputs": [],
   "source": [
    "data_url = 'https://raw.githubusercontent.com/cmparlettpelleriti/CPSC392ParlettPelleriti/master/Data/office.csv'"
   ]
  },
  {
   "cell_type": "code",
   "execution_count": 48,
   "id": "3947c15a",
   "metadata": {},
   "outputs": [
    {
     "data": {
      "text/html": [
       "<div>\n",
       "<style scoped>\n",
       "    .dataframe tbody tr th:only-of-type {\n",
       "        vertical-align: middle;\n",
       "    }\n",
       "\n",
       "    .dataframe tbody tr th {\n",
       "        vertical-align: top;\n",
       "    }\n",
       "\n",
       "    .dataframe thead th {\n",
       "        text-align: right;\n",
       "    }\n",
       "</style>\n",
       "<table border=\"1\" class=\"dataframe\">\n",
       "  <thead>\n",
       "    <tr style=\"text-align: right;\">\n",
       "      <th></th>\n",
       "      <th>season</th>\n",
       "      <th>episode</th>\n",
       "      <th>episode_name</th>\n",
       "      <th>andy</th>\n",
       "      <th>angela</th>\n",
       "      <th>darryl</th>\n",
       "      <th>dwight</th>\n",
       "      <th>jim</th>\n",
       "      <th>kelly</th>\n",
       "      <th>kevin</th>\n",
       "      <th>...</th>\n",
       "      <th>mindy_kaling</th>\n",
       "      <th>paul_feig</th>\n",
       "      <th>gene_stupnitsky</th>\n",
       "      <th>lee_eisenberg</th>\n",
       "      <th>jennifer_celotta</th>\n",
       "      <th>randall_einhorn</th>\n",
       "      <th>brent_forrester</th>\n",
       "      <th>jeffrey_blitz</th>\n",
       "      <th>justin_spitzer</th>\n",
       "      <th>imdb_rating</th>\n",
       "    </tr>\n",
       "  </thead>\n",
       "  <tbody>\n",
       "    <tr>\n",
       "      <th>0</th>\n",
       "      <td>1</td>\n",
       "      <td>1</td>\n",
       "      <td>pilot</td>\n",
       "      <td>0</td>\n",
       "      <td>1</td>\n",
       "      <td>0</td>\n",
       "      <td>29</td>\n",
       "      <td>36</td>\n",
       "      <td>0</td>\n",
       "      <td>1</td>\n",
       "      <td>...</td>\n",
       "      <td>0</td>\n",
       "      <td>0</td>\n",
       "      <td>0</td>\n",
       "      <td>0</td>\n",
       "      <td>0</td>\n",
       "      <td>0</td>\n",
       "      <td>0</td>\n",
       "      <td>0</td>\n",
       "      <td>0</td>\n",
       "      <td>7.6</td>\n",
       "    </tr>\n",
       "    <tr>\n",
       "      <th>1</th>\n",
       "      <td>1</td>\n",
       "      <td>2</td>\n",
       "      <td>diversity day</td>\n",
       "      <td>0</td>\n",
       "      <td>4</td>\n",
       "      <td>0</td>\n",
       "      <td>17</td>\n",
       "      <td>25</td>\n",
       "      <td>2</td>\n",
       "      <td>8</td>\n",
       "      <td>...</td>\n",
       "      <td>0</td>\n",
       "      <td>0</td>\n",
       "      <td>0</td>\n",
       "      <td>0</td>\n",
       "      <td>0</td>\n",
       "      <td>0</td>\n",
       "      <td>0</td>\n",
       "      <td>0</td>\n",
       "      <td>0</td>\n",
       "      <td>8.3</td>\n",
       "    </tr>\n",
       "    <tr>\n",
       "      <th>2</th>\n",
       "      <td>1</td>\n",
       "      <td>3</td>\n",
       "      <td>health care</td>\n",
       "      <td>0</td>\n",
       "      <td>5</td>\n",
       "      <td>0</td>\n",
       "      <td>62</td>\n",
       "      <td>42</td>\n",
       "      <td>0</td>\n",
       "      <td>6</td>\n",
       "      <td>...</td>\n",
       "      <td>0</td>\n",
       "      <td>0</td>\n",
       "      <td>0</td>\n",
       "      <td>0</td>\n",
       "      <td>0</td>\n",
       "      <td>0</td>\n",
       "      <td>0</td>\n",
       "      <td>0</td>\n",
       "      <td>0</td>\n",
       "      <td>7.9</td>\n",
       "    </tr>\n",
       "    <tr>\n",
       "      <th>3</th>\n",
       "      <td>1</td>\n",
       "      <td>5</td>\n",
       "      <td>basketball</td>\n",
       "      <td>0</td>\n",
       "      <td>3</td>\n",
       "      <td>15</td>\n",
       "      <td>25</td>\n",
       "      <td>21</td>\n",
       "      <td>0</td>\n",
       "      <td>1</td>\n",
       "      <td>...</td>\n",
       "      <td>0</td>\n",
       "      <td>0</td>\n",
       "      <td>0</td>\n",
       "      <td>0</td>\n",
       "      <td>0</td>\n",
       "      <td>0</td>\n",
       "      <td>0</td>\n",
       "      <td>0</td>\n",
       "      <td>0</td>\n",
       "      <td>8.4</td>\n",
       "    </tr>\n",
       "    <tr>\n",
       "      <th>4</th>\n",
       "      <td>1</td>\n",
       "      <td>6</td>\n",
       "      <td>hot girl</td>\n",
       "      <td>0</td>\n",
       "      <td>3</td>\n",
       "      <td>0</td>\n",
       "      <td>28</td>\n",
       "      <td>55</td>\n",
       "      <td>0</td>\n",
       "      <td>5</td>\n",
       "      <td>...</td>\n",
       "      <td>1</td>\n",
       "      <td>0</td>\n",
       "      <td>0</td>\n",
       "      <td>0</td>\n",
       "      <td>0</td>\n",
       "      <td>0</td>\n",
       "      <td>0</td>\n",
       "      <td>0</td>\n",
       "      <td>0</td>\n",
       "      <td>7.8</td>\n",
       "    </tr>\n",
       "  </tbody>\n",
       "</table>\n",
       "<p>5 rows × 32 columns</p>\n",
       "</div>"
      ],
      "text/plain": [
       "   season  episode   episode_name  andy  angela  darryl  dwight  jim  kelly  \\\n",
       "0       1        1          pilot     0       1       0      29   36      0   \n",
       "1       1        2  diversity day     0       4       0      17   25      2   \n",
       "2       1        3    health care     0       5       0      62   42      0   \n",
       "3       1        5     basketball     0       3      15      25   21      0   \n",
       "4       1        6       hot girl     0       3       0      28   55      0   \n",
       "\n",
       "   kevin  ...  mindy_kaling  paul_feig  gene_stupnitsky  lee_eisenberg  \\\n",
       "0      1  ...             0          0                0              0   \n",
       "1      8  ...             0          0                0              0   \n",
       "2      6  ...             0          0                0              0   \n",
       "3      1  ...             0          0                0              0   \n",
       "4      5  ...             1          0                0              0   \n",
       "\n",
       "   jennifer_celotta  randall_einhorn  brent_forrester  jeffrey_blitz  \\\n",
       "0                 0                0                0              0   \n",
       "1                 0                0                0              0   \n",
       "2                 0                0                0              0   \n",
       "3                 0                0                0              0   \n",
       "4                 0                0                0              0   \n",
       "\n",
       "   justin_spitzer  imdb_rating  \n",
       "0               0          7.6  \n",
       "1               0          8.3  \n",
       "2               0          7.9  \n",
       "3               0          8.4  \n",
       "4               0          7.8  \n",
       "\n",
       "[5 rows x 32 columns]"
      ]
     },
     "execution_count": 48,
     "metadata": {},
     "output_type": "execute_result"
    }
   ],
   "source": [
    "office = pd.read_csv(data_url)\n",
    "office.head()\n"
   ]
  },
  {
   "cell_type": "code",
   "execution_count": 49,
   "id": "dd3db93f",
   "metadata": {},
   "outputs": [],
   "source": [
    "data_url = 'https://raw.githubusercontent.com/cmparlettpelleriti/CPSC392ParlettPelleriti/master/Data/office_long.csv'"
   ]
  },
  {
   "cell_type": "code",
   "execution_count": 50,
   "id": "45b8026c",
   "metadata": {
    "scrolled": true
   },
   "outputs": [
    {
     "data": {
      "text/html": [
       "<div>\n",
       "<style scoped>\n",
       "    .dataframe tbody tr th:only-of-type {\n",
       "        vertical-align: middle;\n",
       "    }\n",
       "\n",
       "    .dataframe tbody tr th {\n",
       "        vertical-align: top;\n",
       "    }\n",
       "\n",
       "    .dataframe thead th {\n",
       "        text-align: right;\n",
       "    }\n",
       "</style>\n",
       "<table border=\"1\" class=\"dataframe\">\n",
       "  <thead>\n",
       "    <tr style=\"text-align: right;\">\n",
       "      <th></th>\n",
       "      <th>season</th>\n",
       "      <th>episode</th>\n",
       "      <th>episode_name</th>\n",
       "      <th>ken_kwapis</th>\n",
       "      <th>greg_daniels</th>\n",
       "      <th>b_j_novak</th>\n",
       "      <th>paul_lieberstein</th>\n",
       "      <th>mindy_kaling</th>\n",
       "      <th>paul_feig</th>\n",
       "      <th>gene_stupnitsky</th>\n",
       "      <th>lee_eisenberg</th>\n",
       "      <th>jennifer_celotta</th>\n",
       "      <th>randall_einhorn</th>\n",
       "      <th>brent_forrester</th>\n",
       "      <th>jeffrey_blitz</th>\n",
       "      <th>justin_spitzer</th>\n",
       "      <th>imdb_rating</th>\n",
       "      <th>name</th>\n",
       "      <th>value</th>\n",
       "    </tr>\n",
       "  </thead>\n",
       "  <tbody>\n",
       "    <tr>\n",
       "      <th>0</th>\n",
       "      <td>1</td>\n",
       "      <td>1</td>\n",
       "      <td>pilot</td>\n",
       "      <td>1</td>\n",
       "      <td>1</td>\n",
       "      <td>0</td>\n",
       "      <td>0</td>\n",
       "      <td>0</td>\n",
       "      <td>0</td>\n",
       "      <td>0</td>\n",
       "      <td>0</td>\n",
       "      <td>0</td>\n",
       "      <td>0</td>\n",
       "      <td>0</td>\n",
       "      <td>0</td>\n",
       "      <td>0</td>\n",
       "      <td>7.6</td>\n",
       "      <td>andy</td>\n",
       "      <td>0</td>\n",
       "    </tr>\n",
       "    <tr>\n",
       "      <th>1</th>\n",
       "      <td>1</td>\n",
       "      <td>1</td>\n",
       "      <td>pilot</td>\n",
       "      <td>1</td>\n",
       "      <td>1</td>\n",
       "      <td>0</td>\n",
       "      <td>0</td>\n",
       "      <td>0</td>\n",
       "      <td>0</td>\n",
       "      <td>0</td>\n",
       "      <td>0</td>\n",
       "      <td>0</td>\n",
       "      <td>0</td>\n",
       "      <td>0</td>\n",
       "      <td>0</td>\n",
       "      <td>0</td>\n",
       "      <td>7.6</td>\n",
       "      <td>angela</td>\n",
       "      <td>1</td>\n",
       "    </tr>\n",
       "    <tr>\n",
       "      <th>2</th>\n",
       "      <td>1</td>\n",
       "      <td>1</td>\n",
       "      <td>pilot</td>\n",
       "      <td>1</td>\n",
       "      <td>1</td>\n",
       "      <td>0</td>\n",
       "      <td>0</td>\n",
       "      <td>0</td>\n",
       "      <td>0</td>\n",
       "      <td>0</td>\n",
       "      <td>0</td>\n",
       "      <td>0</td>\n",
       "      <td>0</td>\n",
       "      <td>0</td>\n",
       "      <td>0</td>\n",
       "      <td>0</td>\n",
       "      <td>7.6</td>\n",
       "      <td>darryl</td>\n",
       "      <td>0</td>\n",
       "    </tr>\n",
       "    <tr>\n",
       "      <th>3</th>\n",
       "      <td>1</td>\n",
       "      <td>1</td>\n",
       "      <td>pilot</td>\n",
       "      <td>1</td>\n",
       "      <td>1</td>\n",
       "      <td>0</td>\n",
       "      <td>0</td>\n",
       "      <td>0</td>\n",
       "      <td>0</td>\n",
       "      <td>0</td>\n",
       "      <td>0</td>\n",
       "      <td>0</td>\n",
       "      <td>0</td>\n",
       "      <td>0</td>\n",
       "      <td>0</td>\n",
       "      <td>0</td>\n",
       "      <td>7.6</td>\n",
       "      <td>dwight</td>\n",
       "      <td>29</td>\n",
       "    </tr>\n",
       "    <tr>\n",
       "      <th>4</th>\n",
       "      <td>1</td>\n",
       "      <td>1</td>\n",
       "      <td>pilot</td>\n",
       "      <td>1</td>\n",
       "      <td>1</td>\n",
       "      <td>0</td>\n",
       "      <td>0</td>\n",
       "      <td>0</td>\n",
       "      <td>0</td>\n",
       "      <td>0</td>\n",
       "      <td>0</td>\n",
       "      <td>0</td>\n",
       "      <td>0</td>\n",
       "      <td>0</td>\n",
       "      <td>0</td>\n",
       "      <td>0</td>\n",
       "      <td>7.6</td>\n",
       "      <td>jim</td>\n",
       "      <td>36</td>\n",
       "    </tr>\n",
       "  </tbody>\n",
       "</table>\n",
       "</div>"
      ],
      "text/plain": [
       "   season  episode episode_name  ken_kwapis  greg_daniels  b_j_novak  \\\n",
       "0       1        1        pilot           1             1          0   \n",
       "1       1        1        pilot           1             1          0   \n",
       "2       1        1        pilot           1             1          0   \n",
       "3       1        1        pilot           1             1          0   \n",
       "4       1        1        pilot           1             1          0   \n",
       "\n",
       "   paul_lieberstein  mindy_kaling  paul_feig  gene_stupnitsky  lee_eisenberg  \\\n",
       "0                 0             0          0                0              0   \n",
       "1                 0             0          0                0              0   \n",
       "2                 0             0          0                0              0   \n",
       "3                 0             0          0                0              0   \n",
       "4                 0             0          0                0              0   \n",
       "\n",
       "   jennifer_celotta  randall_einhorn  brent_forrester  jeffrey_blitz  \\\n",
       "0                 0                0                0              0   \n",
       "1                 0                0                0              0   \n",
       "2                 0                0                0              0   \n",
       "3                 0                0                0              0   \n",
       "4                 0                0                0              0   \n",
       "\n",
       "   justin_spitzer  imdb_rating    name  value  \n",
       "0               0          7.6    andy      0  \n",
       "1               0          7.6  angela      1  \n",
       "2               0          7.6  darryl      0  \n",
       "3               0          7.6  dwight     29  \n",
       "4               0          7.6     jim     36  "
      ]
     },
     "execution_count": 50,
     "metadata": {},
     "output_type": "execute_result"
    }
   ],
   "source": [
    "office_long = pd.read_csv(data_url)\n",
    "office_long.head()\n"
   ]
  },
  {
   "cell_type": "code",
   "execution_count": 52,
   "id": "9eaaa5a6",
   "metadata": {},
   "outputs": [
    {
     "data": {
      "image/png": "[encoded data removed]",
      "text/plain": [
       "<Figure size 640x480 with 1 Axes>"
      ]
     },
     "metadata": {
      "image/png": {
       "height": 480,
       "width": 640
      }
     },
     "output_type": "display_data"
    },
    {
     "data": {
      "text/plain": [
       "<Figure Size: (640 x 480)>"
      ]
     },
     "execution_count": 52,
     "metadata": {},
     "output_type": "execute_result"
    }
   ],
   "source": [
    "(ggplot(office_long, \n",
    "        aes(x='name', y='value', fill = 'name')) + \n",
    "         geom_boxplot())"
   ]
  },
  {
   "cell_type": "code",
   "execution_count": 53,
   "id": "b4520440",
   "metadata": {},
   "outputs": [
    {
     "data": {
      "text/html": [
       "<div>\n",
       "<style scoped>\n",
       "    .dataframe tbody tr th:only-of-type {\n",
       "        vertical-align: middle;\n",
       "    }\n",
       "\n",
       "    .dataframe tbody tr th {\n",
       "        vertical-align: top;\n",
       "    }\n",
       "\n",
       "    .dataframe thead th {\n",
       "        text-align: right;\n",
       "    }\n",
       "</style>\n",
       "<table border=\"1\" class=\"dataframe\">\n",
       "  <thead>\n",
       "    <tr style=\"text-align: right;\">\n",
       "      <th></th>\n",
       "      <th>andy</th>\n",
       "      <th>angela</th>\n",
       "      <th>darryl</th>\n",
       "      <th>dwight</th>\n",
       "      <th>jim</th>\n",
       "      <th>kelly</th>\n",
       "      <th>kevin</th>\n",
       "      <th>michael</th>\n",
       "      <th>oscar</th>\n",
       "      <th>pam</th>\n",
       "      <th>...</th>\n",
       "      <th>paul_lieberstein</th>\n",
       "      <th>mindy_kaling</th>\n",
       "      <th>paul_feig</th>\n",
       "      <th>gene_stupnitsky</th>\n",
       "      <th>lee_eisenberg</th>\n",
       "      <th>jennifer_celotta</th>\n",
       "      <th>randall_einhorn</th>\n",
       "      <th>brent_forrester</th>\n",
       "      <th>jeffrey_blitz</th>\n",
       "      <th>justin_spitzer</th>\n",
       "    </tr>\n",
       "  </thead>\n",
       "  <tbody>\n",
       "    <tr>\n",
       "      <th>15</th>\n",
       "      <td>-1.034665</td>\n",
       "      <td>-0.423714</td>\n",
       "      <td>-0.618726</td>\n",
       "      <td>0.011625</td>\n",
       "      <td>0.771404</td>\n",
       "      <td>-0.076392</td>\n",
       "      <td>-0.150082</td>\n",
       "      <td>0.577260</td>\n",
       "      <td>0.136740</td>\n",
       "      <td>-0.051358</td>\n",
       "      <td>...</td>\n",
       "      <td>-0.369922</td>\n",
       "      <td>-0.505781</td>\n",
       "      <td>-0.336752</td>\n",
       "      <td>2.703274</td>\n",
       "      <td>2.703274</td>\n",
       "      <td>-0.301511</td>\n",
       "      <td>-0.353553</td>\n",
       "      <td>-0.385922</td>\n",
       "      <td>-0.263262</td>\n",
       "      <td>-0.282843</td>\n",
       "    </tr>\n",
       "    <tr>\n",
       "      <th>126</th>\n",
       "      <td>1.867061</td>\n",
       "      <td>-0.233042</td>\n",
       "      <td>-0.009032</td>\n",
       "      <td>-1.139227</td>\n",
       "      <td>-0.885209</td>\n",
       "      <td>1.217772</td>\n",
       "      <td>-0.002729</td>\n",
       "      <td>-1.775347</td>\n",
       "      <td>-0.131768</td>\n",
       "      <td>0.058476</td>\n",
       "      <td>...</td>\n",
       "      <td>-0.369922</td>\n",
       "      <td>-0.505781</td>\n",
       "      <td>-0.336752</td>\n",
       "      <td>-0.369922</td>\n",
       "      <td>-0.369922</td>\n",
       "      <td>-0.301511</td>\n",
       "      <td>-0.353553</td>\n",
       "      <td>-0.385922</td>\n",
       "      <td>-0.263262</td>\n",
       "      <td>3.535534</td>\n",
       "    </tr>\n",
       "    <tr>\n",
       "      <th>85</th>\n",
       "      <td>0.772070</td>\n",
       "      <td>0.243635</td>\n",
       "      <td>-0.618726</td>\n",
       "      <td>2.417951</td>\n",
       "      <td>1.092039</td>\n",
       "      <td>-0.399932</td>\n",
       "      <td>3.091696</td>\n",
       "      <td>1.523417</td>\n",
       "      <td>0.136740</td>\n",
       "      <td>2.310071</td>\n",
       "      <td>...</td>\n",
       "      <td>-0.369922</td>\n",
       "      <td>1.977142</td>\n",
       "      <td>2.969542</td>\n",
       "      <td>-0.369922</td>\n",
       "      <td>-0.369922</td>\n",
       "      <td>-0.301511</td>\n",
       "      <td>-0.353553</td>\n",
       "      <td>-0.385922</td>\n",
       "      <td>-0.263262</td>\n",
       "      <td>-0.282843</td>\n",
       "    </tr>\n",
       "    <tr>\n",
       "      <th>109</th>\n",
       "      <td>-0.268171</td>\n",
       "      <td>-0.805056</td>\n",
       "      <td>0.356784</td>\n",
       "      <td>-0.616112</td>\n",
       "      <td>-0.190501</td>\n",
       "      <td>0.570690</td>\n",
       "      <td>-0.297436</td>\n",
       "      <td>-0.701331</td>\n",
       "      <td>0.539502</td>\n",
       "      <td>0.442895</td>\n",
       "      <td>...</td>\n",
       "      <td>-0.369922</td>\n",
       "      <td>-0.505781</td>\n",
       "      <td>-0.336752</td>\n",
       "      <td>-0.369922</td>\n",
       "      <td>-0.369922</td>\n",
       "      <td>-0.301511</td>\n",
       "      <td>-0.353553</td>\n",
       "      <td>2.591194</td>\n",
       "      <td>-0.263262</td>\n",
       "      <td>-0.282843</td>\n",
       "    </tr>\n",
       "    <tr>\n",
       "      <th>11</th>\n",
       "      <td>-1.034665</td>\n",
       "      <td>-0.900391</td>\n",
       "      <td>-0.618726</td>\n",
       "      <td>-0.825358</td>\n",
       "      <td>0.237012</td>\n",
       "      <td>-0.723473</td>\n",
       "      <td>-1.181557</td>\n",
       "      <td>0.091396</td>\n",
       "      <td>-0.534530</td>\n",
       "      <td>0.223227</td>\n",
       "      <td>...</td>\n",
       "      <td>2.703274</td>\n",
       "      <td>-0.505781</td>\n",
       "      <td>-0.336752</td>\n",
       "      <td>-0.369922</td>\n",
       "      <td>-0.369922</td>\n",
       "      <td>-0.301511</td>\n",
       "      <td>-0.353553</td>\n",
       "      <td>-0.385922</td>\n",
       "      <td>-0.263262</td>\n",
       "      <td>-0.282843</td>\n",
       "    </tr>\n",
       "  </tbody>\n",
       "</table>\n",
       "<p>5 rows × 28 columns</p>\n",
       "</div>"
      ],
      "text/plain": [
       "         andy    angela    darryl    dwight       jim     kelly     kevin  \\\n",
       "15  -1.034665 -0.423714 -0.618726  0.011625  0.771404 -0.076392 -0.150082   \n",
       "126  1.867061 -0.233042 -0.009032 -1.139227 -0.885209  1.217772 -0.002729   \n",
       "85   0.772070  0.243635 -0.618726  2.417951  1.092039 -0.399932  3.091696   \n",
       "109 -0.268171 -0.805056  0.356784 -0.616112 -0.190501  0.570690 -0.297436   \n",
       "11  -1.034665 -0.900391 -0.618726 -0.825358  0.237012 -0.723473 -1.181557   \n",
       "\n",
       "      michael     oscar       pam  ...  paul_lieberstein  mindy_kaling  \\\n",
       "15   0.577260  0.136740 -0.051358  ...         -0.369922     -0.505781   \n",
       "126 -1.775347 -0.131768  0.058476  ...         -0.369922     -0.505781   \n",
       "85   1.523417  0.136740  2.310071  ...         -0.369922      1.977142   \n",
       "109 -0.701331  0.539502  0.442895  ...         -0.369922     -0.505781   \n",
       "11   0.091396 -0.534530  0.223227  ...          2.703274     -0.505781   \n",
       "\n",
       "     paul_feig  gene_stupnitsky  lee_eisenberg  jennifer_celotta  \\\n",
       "15   -0.336752         2.703274       2.703274         -0.301511   \n",
       "126  -0.336752        -0.369922      -0.369922         -0.301511   \n",
       "85    2.969542        -0.369922      -0.369922         -0.301511   \n",
       "109  -0.336752        -0.369922      -0.369922         -0.301511   \n",
       "11   -0.336752        -0.369922      -0.369922         -0.301511   \n",
       "\n",
       "     randall_einhorn  brent_forrester  jeffrey_blitz  justin_spitzer  \n",
       "15         -0.353553        -0.385922      -0.263262       -0.282843  \n",
       "126        -0.353553        -0.385922      -0.263262        3.535534  \n",
       "85         -0.353553        -0.385922      -0.263262       -0.282843  \n",
       "109        -0.353553         2.591194      -0.263262       -0.282843  \n",
       "11         -0.353553        -0.385922      -0.263262       -0.282843  \n",
       "\n",
       "[5 rows x 28 columns]"
      ]
     },
     "execution_count": 53,
     "metadata": {},
     "output_type": "execute_result"
    }
   ],
   "source": [
    "feat = office.columns[3:31]\n",
    "\n",
    "X = office[feat]\n",
    "y = office['imdb_rating']\n",
    "\n",
    "X_train, X_test, y_train, y_test = train_test_split(X, y, test_size=0.2)\n",
    "\n",
    "z = StandardScaler()\n",
    "\n",
    "X_train[feat] = z.fit_transform(X_train[feat])\n",
    "X_test[feat] = z.transform(X_test[feat])\n",
    "\n",
    "X_train.head()"
   ]
  },
  {
   "cell_type": "markdown",
   "id": "d81ce382",
   "metadata": {},
   "source": [
    "# Regular"
   ]
  },
  {
   "cell_type": "code",
   "execution_count": 56,
   "id": "28197d61",
   "metadata": {},
   "outputs": [
    {
     "name": "stdout",
     "output_type": "stream",
     "text": [
      "Train: 0.2830453032332744\n",
      "Test: 0.36276327344407167\n"
     ]
    }
   ],
   "source": [
    "lr = LinearRegression()\n",
    "lr.fit(X_train, y_train)\n",
    "\n",
    "print('Train:', mean_absolute_error(y_train, lr.predict(X_train)))\n",
    "print('Test:', mean_absolute_error(y_test, lr.predict(X_test)))"
   ]
  },
  {
   "cell_type": "markdown",
   "id": "0473e484",
   "metadata": {},
   "source": [
    "# Ridge"
   ]
  },
  {
   "cell_type": "code",
   "execution_count": 57,
   "id": "7bf05db9",
   "metadata": {},
   "outputs": [
    {
     "name": "stdout",
     "output_type": "stream",
     "text": [
      "Train: 0.2843125665579341\n",
      "Test: 0.3591147743915456\n"
     ]
    }
   ],
   "source": [
    "rr = Ridge()\n",
    "rr.fit(X_train, y_train)\n",
    "\n",
    "print('Train:', mean_absolute_error(y_train, rr.predict(X_train)))\n",
    "print('Test:', mean_absolute_error(y_test, rr.predict(X_test)))"
   ]
  },
  {
   "cell_type": "markdown",
   "id": "e39f83bc",
   "metadata": {},
   "source": [
    "# Lasso"
   ]
  },
  {
   "cell_type": "code",
   "execution_count": 58,
   "id": "7b044f4d",
   "metadata": {},
   "outputs": [
    {
     "name": "stdout",
     "output_type": "stream",
     "text": [
      "Train: 0.41351165980795623\n",
      "Test: 0.3066137566137565\n"
     ]
    }
   ],
   "source": [
    "lsr = Lasso()\n",
    "lsr.fit(X_train, y_train)\n",
    "\n",
    "print('Train:', mean_absolute_error(y_train, lsr.predict(X_train)))\n",
    "print('Test:', mean_absolute_error(y_test, lsr.predict(X_test)))"
   ]
  },
  {
   "cell_type": "code",
   "execution_count": null,
   "id": "19da2139",
   "metadata": {},
   "outputs": [],
   "source": []
  },
  {
   "cell_type": "code",
   "execution_count": null,
   "id": "4322a105",
   "metadata": {},
   "outputs": [],
   "source": []
  },
  {
   "cell_type": "code",
   "execution_count": null,
   "id": "e6623df2",
   "metadata": {},
   "outputs": [],
   "source": []
  },
  {
   "cell_type": "code",
   "execution_count": null,
   "id": "6acb711a",
   "metadata": {},
   "outputs": [],
   "source": []
  },
  {
   "cell_type": "code",
   "execution_count": null,
   "id": "a7f07a21",
   "metadata": {},
   "outputs": [],
   "source": []
  },
  {
   "cell_type": "code",
   "execution_count": null,
   "id": "73feae87",
   "metadata": {},
   "outputs": [],
   "source": []
  },
  {
   "cell_type": "code",
   "execution_count": null,
   "id": "1246944a",
   "metadata": {},
   "outputs": [],
   "source": []
  },
  {
   "cell_type": "code",
   "execution_count": null,
   "id": "bd864722",
   "metadata": {},
   "outputs": [],
   "source": []
  }
 ],
 "metadata": {
  "kernelspec": {
   "display_name": "Python 3 (ipykernel)",
   "language": "python",
   "name": "python3"
  },
  "language_info": {
   "codemirror_mode": {
    "name": "ipython",
    "version": 3
   },
   "file_extension": ".py",
   "mimetype": "text/x-python",
   "name": "python",
   "nbconvert_exporter": "python",
   "pygments_lexer": "ipython3",
   "version": "3.9.12"
  }
 },
 "nbformat": 4,
 "nbformat_minor": 5
}
